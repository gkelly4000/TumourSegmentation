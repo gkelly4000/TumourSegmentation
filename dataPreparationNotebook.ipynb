{
 "cells": [
  {
   "cell_type": "code",
   "execution_count": 2,
   "metadata": {},
   "outputs": [],
   "source": [
    "# Library imports and defining scaler object for normalisation\n",
    "\n",
    "import os\n",
    "import nibabel as nib\n",
    "import numpy as np\n",
    "from sklearn.preprocessing import MinMaxScaler\n",
    "scaler = MinMaxScaler()\n",
    "\n"
   ]
  },
  {
   "cell_type": "code",
   "execution_count": null,
   "metadata": {},
   "outputs": [],
   "source": [
    "path = \"/content/drive/MyDrive/RAWDATA/MICCAI_BraTS2020_TrainingData\" # Directory containing training data\n",
    "total = (len(os.listdir(path)))\n",
    "dir = os.listdir(path)\n",
    "num = 0\n",
    "for d in dir:\n",
    "    num += 1\n",
    "    curPath = os.path.join(path, d)\n",
    "    # Flair\n",
    "    flairPath = os.path.join(curPath, d+\"_flair.nii\")\n",
    "    flairImage = nib.load(flairPath).get_fdata()\n",
    "    scaledFlair = scaler.fit_transform(flairImage.reshape(-1, flairImage.shape[-1])).reshape(flairImage.shape)\n",
    "    \n",
    "    # T1CE\n",
    "    t1cePath = os.path.join(curPath, d+\"_t1ce.nii\")\n",
    "    t1ceImage = nib.load(t1cePath).get_fdata()\n",
    "    scaledT1ce = scaler.fit_transform(t1ceImage.reshape(-1, t1ceImage.shape[-1])).reshape(t1ceImage.shape)\n",
    "\n",
    "    #T1\n",
    "    t1Path = os.path.join(curPath, d+\"_t1.nii\")\n",
    "    t1Image = nib.load(t1Path).get_fdata()\n",
    "    scaledT1 = scaler.fit_transform(t1Image.reshape(-1, t1Image.shape[-1])).reshape(t1Image.shape)\n",
    "\n",
    "    # T2\n",
    "    t2Path = os.path.join(curPath, d+\"_t2.nii\")\n",
    "    t2Image = nib.load(t2Path).get_fdata()\n",
    "    scaledT2 = scaler.fit_transform(t2Image.reshape(-1, t2Image.shape[-1])).reshape(t2Image.shape)\n",
    "\n",
    "    \n",
    "   \n",
    "\n",
    "    # Mask\n",
    "    maskPath = os.path.join(curPath, d + \"_seg.nii.gz\")\n",
    "    maskImage = nib.load(maskPath).get_fdata()\n",
    "    maskImage = maskImage.astype(np.uint8)\n",
    "    maskImage[maskImage==4] = 3 # Reassign class label 4 to 3, as no image contains any voxels with class label 4\n",
    "\n",
    "    # Combine Modalities\n",
    "\n",
    "    combinedImage = np.stack([scaledFlair, scaledT1ce, scaledT1, scaledT2], axis=3)\n",
    "\n",
    "\n",
    "    # Crop volumes to 128x128x128\n",
    "    height = combinedImage.shape[0]\n",
    "    hStart = int((height - 128) / 2)\n",
    "    hEnd = int((height - ((height-128) / 2)))\n",
    "\n",
    "    width = combinedImage.shape[1]\n",
    "    wStart = int((width - 128) / 2)\n",
    "    wEnd = int((width - ((width-128) / 2)))\n",
    "\n",
    "    depth = combinedImage.shape[3]\n",
    "    dStart = int((depth - 128) / 2)\n",
    "    dEnd = int((depth - ((depth-128) / 2)))\n",
    "\n",
    "    combinedImage = combinedImage[hStart:hEnd, wStart:wEnd, dStart:dEnd]\n",
    "    maskImage = maskImage[hStart:hEnd, wStart:wEnd, dStart:dEnd]\n",
    "\n",
    "\n",
    "    print(f\"Saved: {num} out of {total}\")\n",
    "\n",
    "    # Save as numpy arrays\n",
    "    imageSavePath = \"/content/drive/MyDrive/VAL/image\"\n",
    "    imageSaveName = d + \"_image\"\n",
    "    np.save(os.path.join(imageSavePath, imageSaveName), combinedImage)"
   ]
  }
 ],
 "metadata": {
  "interpreter": {
   "hash": "e7370f93d1d0cde622a1f8e1c04877d8463912d04d973331ad4851f04de6915a"
  },
  "kernelspec": {
   "display_name": "Python 3.10.4 64-bit",
   "language": "python",
   "name": "python3"
  },
  "language_info": {
   "codemirror_mode": {
    "name": "ipython",
    "version": 3
   },
   "file_extension": ".py",
   "mimetype": "text/x-python",
   "name": "python",
   "nbconvert_exporter": "python",
   "pygments_lexer": "ipython3",
   "version": "3.10.4"
  },
  "orig_nbformat": 4
 },
 "nbformat": 4,
 "nbformat_minor": 2
}
